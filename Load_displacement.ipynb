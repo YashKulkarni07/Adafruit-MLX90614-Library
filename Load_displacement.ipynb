{
  "nbformat": 4,
  "nbformat_minor": 0,
  "metadata": {
    "colab": {
      "provenance": [],
      "authorship_tag": "ABX9TyMPfGr0uJJSKKJviK5b/J5M",
      "include_colab_link": true
    },
    "kernelspec": {
      "name": "python3",
      "display_name": "Python 3"
    },
    "language_info": {
      "name": "python"
    }
  },
  "cells": [
    {
      "cell_type": "markdown",
      "metadata": {
        "id": "view-in-github",
        "colab_type": "text"
      },
      "source": [
        "<a href=\"https://colab.research.google.com/github/YashKulkarni07/Adafruit-MLX90614-Library/blob/master/Load_displacement.ipynb\" target=\"_parent\"><img src=\"https://colab.research.google.com/assets/colab-badge.svg\" alt=\"Open In Colab\"/></a>"
      ]
    },
    {
      "cell_type": "code",
      "execution_count": 42,
      "metadata": {
        "id": "CQHe01-LsUEm"
      },
      "outputs": [],
      "source": [
        "import pandas as pd\n",
        "import matplotlib.pyplot as plt\n",
        "import numpy as np\n",
        "import math"
      ]
    },
    {
      "cell_type": "code",
      "source": [
        "df1 = pd.read_csv('V1_FPS_Straight_1.10.csv')\n",
        "df2 = pd.read_csv('V2_FPS_Straight_1.10.csv')\n",
        "df3 = pd.read_csv('V3_FPS_Straight_1.10.csv')"
      ],
      "metadata": {
        "id": "KBIMBRfrxS30"
      },
      "execution_count": 43,
      "outputs": []
    },
    {
      "cell_type": "code",
      "source": [
        "df1=df1.iloc[:1144]\n",
        "df2=df2.iloc[:1302]\n",
        "df3=df3.iloc[:1057]"
      ],
      "metadata": {
        "id": "i5ZzhtZc1Kgj"
      },
      "execution_count": 49,
      "outputs": []
    },
    {
      "cell_type": "code",
      "source": [
        "df1['Load kgf'] = df1['Load kgf'].astype(float)\n",
        "df2['Load kgf'] = df2['Load kgf'].astype(float)\n",
        "df3['Load kgf'] = df3['Load kgf'].astype(float)\n",
        "df1['Extension mm'] = df1['Extension mm'].astype(float)\n",
        "df2['Extension mm'] = df2['Extension mm'].astype(float)\n",
        "df3['Extension mm'] = df3['Extension mm'].astype(float)"
      ],
      "metadata": {
        "id": "YqpLeh2Vzsib"
      },
      "execution_count": 50,
      "outputs": []
    },
    {
      "cell_type": "code",
      "source": [
        "df1['Load kgf'] = df1['Load kgf'].astype(float)\n",
        "df2['Load kgf'] = df2['Load kgf'].astype(float)\n",
        "df3['Load kgf'] = df3['Load kgf'].astype(float)\n",
        "df1['Extension mm'] = df1['Extension mm'].astype(float)\n",
        "df2['Extension mm'] = df2['Extension mm'].astype(float)\n",
        "df3['Extension mm'] = df3['Extension mm'].astype(float)"
      ],
      "metadata": {
        "id": "dxTledhky_R-"
      },
      "execution_count": 51,
      "outputs": []
    },
    {
      "cell_type": "code",
      "source": [
        "df1['True Extension mm']=df1['Extension mm']-108.5845\n",
        "df2['True Extension mm']=df2['Extension mm']-110.3939\n",
        "df3['True Extension mm']=df3['Extension mm']-109.4765\n",
        "\n",
        "df1['Load N']=df1['Load kgf']*9.80665\n",
        "df2['Load N']=df2['Load kgf']*9.80665\n",
        "df3['Load N']=df3['Load kgf']*9.80665"
      ],
      "metadata": {
        "id": "vd13wJOdyiuT"
      },
      "execution_count": 56,
      "outputs": []
    },
    {
      "cell_type": "code",
      "source": [
        "df1.head()"
      ],
      "metadata": {
        "colab": {
          "base_uri": "https://localhost:8080/",
          "height": 305
        },
        "id": "SCdNE23G1mJ8",
        "outputId": "c37360d0-1a27-440d-8218-d69a6ea94b89"
      },
      "execution_count": 57,
      "outputs": [
        {
          "output_type": "execute_result",
          "data": {
            "text/plain": [
              "  Time sec  Extension mm Strain 1 %  Load kgf Tensile stress MPa Cycle Count   \\\n",
              "0        0      108.5845  -2.499572  0.001169        0.001146245            0   \n",
              "1      0.1      108.5877  -2.497722 -0.002160       -0.002118186            0   \n",
              "2      0.2      108.5977  -2.476536 -0.000234       -0.000229773            0   \n",
              "3      0.3      108.6079  -2.489783 -0.000947       -0.000928314            0   \n",
              "4      0.4      108.6171  -2.501433 -0.002789       -0.002735409            0   \n",
              "\n",
              "  Marked Data  PIP Count  Tensile extension mm Tensile strain %  \\\n",
              "0            0          0             108.5845         108.5845   \n",
              "1            0          0             108.5877         108.5877   \n",
              "2            0          0             108.5977         108.5977   \n",
              "3            0          0             108.6078         108.6078   \n",
              "4            0          0             108.6171         108.6171   \n",
              "\n",
              "  Displacement (Strain 1) mm Corrected Position mm Tenacity gf/tex  \\\n",
              "0                 -0.6348913              108.5845      0.01168845   \n",
              "1                 -0.6344213              108.5877     -0.02159948   \n",
              "2                   -0.62904              108.5977    -0.002343032   \n",
              "3                 -0.6324048              108.6079    -0.009466168   \n",
              "4                 -0.6353639              108.6171     -0.02789341   \n",
              "\n",
              "   True Extension mm    Load N  \n",
              "0             0.0000  0.011462  \n",
              "1             0.0032 -0.021182  \n",
              "2             0.0132 -0.002298  \n",
              "3             0.0234 -0.009283  \n",
              "4             0.0326 -0.027354  "
            ],
            "text/html": [
              "\n",
              "  <div id=\"df-ce167111-0aae-4d76-9b20-be091638d4ca\">\n",
              "    <div class=\"colab-df-container\">\n",
              "      <div>\n",
              "<style scoped>\n",
              "    .dataframe tbody tr th:only-of-type {\n",
              "        vertical-align: middle;\n",
              "    }\n",
              "\n",
              "    .dataframe tbody tr th {\n",
              "        vertical-align: top;\n",
              "    }\n",
              "\n",
              "    .dataframe thead th {\n",
              "        text-align: right;\n",
              "    }\n",
              "</style>\n",
              "<table border=\"1\" class=\"dataframe\">\n",
              "  <thead>\n",
              "    <tr style=\"text-align: right;\">\n",
              "      <th></th>\n",
              "      <th>Time sec</th>\n",
              "      <th>Extension mm</th>\n",
              "      <th>Strain 1 %</th>\n",
              "      <th>Load kgf</th>\n",
              "      <th>Tensile stress MPa</th>\n",
              "      <th>Cycle Count</th>\n",
              "      <th>Marked Data</th>\n",
              "      <th>PIP Count</th>\n",
              "      <th>Tensile extension mm</th>\n",
              "      <th>Tensile strain %</th>\n",
              "      <th>Displacement (Strain 1) mm</th>\n",
              "      <th>Corrected Position mm</th>\n",
              "      <th>Tenacity gf/tex</th>\n",
              "      <th>True Extension mm</th>\n",
              "      <th>Load N</th>\n",
              "    </tr>\n",
              "  </thead>\n",
              "  <tbody>\n",
              "    <tr>\n",
              "      <th>0</th>\n",
              "      <td>0</td>\n",
              "      <td>108.5845</td>\n",
              "      <td>-2.499572</td>\n",
              "      <td>0.001169</td>\n",
              "      <td>0.001146245</td>\n",
              "      <td>0</td>\n",
              "      <td>0</td>\n",
              "      <td>0</td>\n",
              "      <td>108.5845</td>\n",
              "      <td>108.5845</td>\n",
              "      <td>-0.6348913</td>\n",
              "      <td>108.5845</td>\n",
              "      <td>0.01168845</td>\n",
              "      <td>0.0000</td>\n",
              "      <td>0.011462</td>\n",
              "    </tr>\n",
              "    <tr>\n",
              "      <th>1</th>\n",
              "      <td>0.1</td>\n",
              "      <td>108.5877</td>\n",
              "      <td>-2.497722</td>\n",
              "      <td>-0.002160</td>\n",
              "      <td>-0.002118186</td>\n",
              "      <td>0</td>\n",
              "      <td>0</td>\n",
              "      <td>0</td>\n",
              "      <td>108.5877</td>\n",
              "      <td>108.5877</td>\n",
              "      <td>-0.6344213</td>\n",
              "      <td>108.5877</td>\n",
              "      <td>-0.02159948</td>\n",
              "      <td>0.0032</td>\n",
              "      <td>-0.021182</td>\n",
              "    </tr>\n",
              "    <tr>\n",
              "      <th>2</th>\n",
              "      <td>0.2</td>\n",
              "      <td>108.5977</td>\n",
              "      <td>-2.476536</td>\n",
              "      <td>-0.000234</td>\n",
              "      <td>-0.000229773</td>\n",
              "      <td>0</td>\n",
              "      <td>0</td>\n",
              "      <td>0</td>\n",
              "      <td>108.5977</td>\n",
              "      <td>108.5977</td>\n",
              "      <td>-0.62904</td>\n",
              "      <td>108.5977</td>\n",
              "      <td>-0.002343032</td>\n",
              "      <td>0.0132</td>\n",
              "      <td>-0.002298</td>\n",
              "    </tr>\n",
              "    <tr>\n",
              "      <th>3</th>\n",
              "      <td>0.3</td>\n",
              "      <td>108.6079</td>\n",
              "      <td>-2.489783</td>\n",
              "      <td>-0.000947</td>\n",
              "      <td>-0.000928314</td>\n",
              "      <td>0</td>\n",
              "      <td>0</td>\n",
              "      <td>0</td>\n",
              "      <td>108.6078</td>\n",
              "      <td>108.6078</td>\n",
              "      <td>-0.6324048</td>\n",
              "      <td>108.6079</td>\n",
              "      <td>-0.009466168</td>\n",
              "      <td>0.0234</td>\n",
              "      <td>-0.009283</td>\n",
              "    </tr>\n",
              "    <tr>\n",
              "      <th>4</th>\n",
              "      <td>0.4</td>\n",
              "      <td>108.6171</td>\n",
              "      <td>-2.501433</td>\n",
              "      <td>-0.002789</td>\n",
              "      <td>-0.002735409</td>\n",
              "      <td>0</td>\n",
              "      <td>0</td>\n",
              "      <td>0</td>\n",
              "      <td>108.6171</td>\n",
              "      <td>108.6171</td>\n",
              "      <td>-0.6353639</td>\n",
              "      <td>108.6171</td>\n",
              "      <td>-0.02789341</td>\n",
              "      <td>0.0326</td>\n",
              "      <td>-0.027354</td>\n",
              "    </tr>\n",
              "  </tbody>\n",
              "</table>\n",
              "</div>\n",
              "      <button class=\"colab-df-convert\" onclick=\"convertToInteractive('df-ce167111-0aae-4d76-9b20-be091638d4ca')\"\n",
              "              title=\"Convert this dataframe to an interactive table.\"\n",
              "              style=\"display:none;\">\n",
              "        \n",
              "  <svg xmlns=\"http://www.w3.org/2000/svg\" height=\"24px\"viewBox=\"0 0 24 24\"\n",
              "       width=\"24px\">\n",
              "    <path d=\"M0 0h24v24H0V0z\" fill=\"none\"/>\n",
              "    <path d=\"M18.56 5.44l.94 2.06.94-2.06 2.06-.94-2.06-.94-.94-2.06-.94 2.06-2.06.94zm-11 1L8.5 8.5l.94-2.06 2.06-.94-2.06-.94L8.5 2.5l-.94 2.06-2.06.94zm10 10l.94 2.06.94-2.06 2.06-.94-2.06-.94-.94-2.06-.94 2.06-2.06.94z\"/><path d=\"M17.41 7.96l-1.37-1.37c-.4-.4-.92-.59-1.43-.59-.52 0-1.04.2-1.43.59L10.3 9.45l-7.72 7.72c-.78.78-.78 2.05 0 2.83L4 21.41c.39.39.9.59 1.41.59.51 0 1.02-.2 1.41-.59l7.78-7.78 2.81-2.81c.8-.78.8-2.07 0-2.86zM5.41 20L4 18.59l7.72-7.72 1.47 1.35L5.41 20z\"/>\n",
              "  </svg>\n",
              "      </button>\n",
              "      \n",
              "  <style>\n",
              "    .colab-df-container {\n",
              "      display:flex;\n",
              "      flex-wrap:wrap;\n",
              "      gap: 12px;\n",
              "    }\n",
              "\n",
              "    .colab-df-convert {\n",
              "      background-color: #E8F0FE;\n",
              "      border: none;\n",
              "      border-radius: 50%;\n",
              "      cursor: pointer;\n",
              "      display: none;\n",
              "      fill: #1967D2;\n",
              "      height: 32px;\n",
              "      padding: 0 0 0 0;\n",
              "      width: 32px;\n",
              "    }\n",
              "\n",
              "    .colab-df-convert:hover {\n",
              "      background-color: #E2EBFA;\n",
              "      box-shadow: 0px 1px 2px rgba(60, 64, 67, 0.3), 0px 1px 3px 1px rgba(60, 64, 67, 0.15);\n",
              "      fill: #174EA6;\n",
              "    }\n",
              "\n",
              "    [theme=dark] .colab-df-convert {\n",
              "      background-color: #3B4455;\n",
              "      fill: #D2E3FC;\n",
              "    }\n",
              "\n",
              "    [theme=dark] .colab-df-convert:hover {\n",
              "      background-color: #434B5C;\n",
              "      box-shadow: 0px 1px 3px 1px rgba(0, 0, 0, 0.15);\n",
              "      filter: drop-shadow(0px 1px 2px rgba(0, 0, 0, 0.3));\n",
              "      fill: #FFFFFF;\n",
              "    }\n",
              "  </style>\n",
              "\n",
              "      <script>\n",
              "        const buttonEl =\n",
              "          document.querySelector('#df-ce167111-0aae-4d76-9b20-be091638d4ca button.colab-df-convert');\n",
              "        buttonEl.style.display =\n",
              "          google.colab.kernel.accessAllowed ? 'block' : 'none';\n",
              "\n",
              "        async function convertToInteractive(key) {\n",
              "          const element = document.querySelector('#df-ce167111-0aae-4d76-9b20-be091638d4ca');\n",
              "          const dataTable =\n",
              "            await google.colab.kernel.invokeFunction('convertToInteractive',\n",
              "                                                     [key], {});\n",
              "          if (!dataTable) return;\n",
              "\n",
              "          const docLinkHtml = 'Like what you see? Visit the ' +\n",
              "            '<a target=\"_blank\" href=https://colab.research.google.com/notebooks/data_table.ipynb>data table notebook</a>'\n",
              "            + ' to learn more about interactive tables.';\n",
              "          element.innerHTML = '';\n",
              "          dataTable['output_type'] = 'display_data';\n",
              "          await google.colab.output.renderOutput(dataTable, element);\n",
              "          const docLink = document.createElement('div');\n",
              "          docLink.innerHTML = docLinkHtml;\n",
              "          element.appendChild(docLink);\n",
              "        }\n",
              "      </script>\n",
              "    </div>\n",
              "  </div>\n",
              "  "
            ]
          },
          "metadata": {},
          "execution_count": 57
        }
      ]
    },
    {
      "cell_type": "code",
      "source": [
        "plt.style.use('seaborn-whitegrid')\n",
        "fig=plt.figure(figsize=(10,4))\n",
        "\n",
        "plt.plot(df1['True Extension mm'], df1['Load N'], color='blue', linewidth=1,label='V1')\n",
        "plt.plot(df2['True Extension mm'], df2['Load N'], color='red', linewidth=1,label='V2')\n",
        "plt.plot(df3['True Extension mm'], df3['Load N'], color='purple', linewidth=1,label='V3')\n",
        "\n",
        "plt.title('Force (N) vs Displacement (mm)')\n",
        "plt.legend()\n",
        "plt.xlabel('Tip Displacement (mm)')\n",
        "plt.ylabel('Force (N)');"
      ],
      "metadata": {
        "colab": {
          "base_uri": "https://localhost:8080/",
          "height": 291
        },
        "id": "I-6f5bkX0g3X",
        "outputId": "138e6366-665e-4bed-ee9c-be7119fe8623"
      },
      "execution_count": 58,
      "outputs": [
        {
          "output_type": "display_data",
          "data": {
            "text/plain": [
              "<Figure size 720x288 with 1 Axes>"
            ],
            "image/png": "[encoded data removed]"
          },
          "metadata": {}
        }
      ]
    }
  ]
}